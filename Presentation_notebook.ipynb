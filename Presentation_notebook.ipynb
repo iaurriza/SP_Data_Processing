{
 "cells": [
  {
   "cell_type": "code",
   "execution_count": 1,
   "metadata": {},
   "outputs": [],
   "source": [
    "#Major Imports\n",
    "import pandas as pd\n",
    "import csv\n",
    "import re\n",
    "import os\n",
    "import nltk\n",
    "import InputPipeline\n",
    "import numpy as np"
   ]
  },
  {
   "cell_type": "code",
   "execution_count": 2,
   "metadata": {},
   "outputs": [],
   "source": [
    "from nltk.stem import PorterStemmer \n",
    "from nltk.tokenize import TweetTokenizer, sent_tokenize\n",
    "from sklearn.feature_extraction.text import TfidfVectorizer\n",
    "from sklearn.model_selection import train_test_split\n",
    "from sklearn.svm import LinearSVC\n",
    "from sklearn.calibration import CalibratedClassifierCV\n",
    "from sklearn.preprocessing import MultiLabelBinarizer\n",
    "from sklearn.naive_bayes import MultinomialNB\n",
    "from sklearn.multiclass import OneVsRestClassifier\n",
    "from sklearn.metrics import accuracy_score\n",
    "from sklearn.metrics import precision_score\n",
    "from sklearn.metrics import hamming_loss\n",
    "from sklearn.metrics import confusion_matrix\n",
    "from sp_tools import print_unique_instances"
   ]
  },
  {
   "cell_type": "code",
   "execution_count": 3,
   "metadata": {},
   "outputs": [],
   "source": [
    "#Import Files\n",
    "source_str = \"./cleaned\""
   ]
  },
  {
   "cell_type": "code",
   "execution_count": 4,
   "metadata": {},
   "outputs": [
    {
     "name": "stdout",
     "output_type": "stream",
     "text": [
      "Working on Audio.csv\n",
      "Working on Gameplay.csv\n",
      "Working on Graphics.csv\n",
      "Working on multi - multi(cut).csv\n"
     ]
    }
   ],
   "source": [
    "#\t\t\t\t\t\t-- Import Files --\n",
    "complete_frame = []\n",
    "review_class = 1\n",
    "for file in os.listdir(source_str):               #file traversal\n",
    "    file_name = file.split(\".\")[0]\n",
    "    print('Working on {}'.format(file))\n",
    "    if file_name == \"Audio\":\n",
    "        audio_data = pd.read_csv('{}/{}'.format(source_str,file),index_col=None)\t\t\t\t#Load original dataframe\n",
    "    elif file_name == \"Graphics\":\n",
    "        graphics_data = pd.read_csv('{}/{}'.format(source_str,file),index_col=None)\t\t\t\t#Load original dataframe\n",
    "    elif file_name == \"Gameplay\":\n",
    "        gameplay_data = pd.read_csv('{}/{}'.format(source_str,file),index_col=None)\t\t\t\t#Load original dataframe\n",
    "    else:            \n",
    "        multi_data = pd.read_csv('{}/{}'.format(source_str,file),index_col=None)\t\t\t\t#Load original dataframeport_file,ignore_index=True)\t"
   ]
  },
  {
   "cell_type": "code",
   "execution_count": 5,
   "metadata": {},
   "outputs": [
    {
     "name": "stdout",
     "output_type": "stream",
     "text": [
      "954\n",
      "454\n",
      "964\n",
      "597\n",
      "2969\n"
     ]
    }
   ],
   "source": [
    "#Drop Invalid Rows\n",
    "audio_data      = audio_data.drop(audio_data[audio_data['isValid']==0].index)\n",
    "graphics_data   = graphics_data.drop(graphics_data[graphics_data['isValid']==0].index)\n",
    "gameplay_data   = gameplay_data.drop(gameplay_data[gameplay_data['isValid']==0].index)\n",
    "multi_data      = multi_data.drop(multi_data[(multi_data.is_audio== -2) & (multi_data.is_graphics == -2) & (multi_data.is_gameplay == -2)].index)\n",
    "print(len(audio_data))\n",
    "print(len(graphics_data))\n",
    "print(len(gameplay_data))\n",
    "print(len(multi_data))\n",
    "print(len(audio_data) + len(graphics_data) + len(gameplay_data) +len(multi_data))"
   ]
  },
  {
   "cell_type": "code",
   "execution_count": 6,
   "metadata": {},
   "outputs": [],
   "source": [
    "#used for the cell below\n",
    "def classification_list(mrow):\n",
    "    output_list = []\n",
    "    if mrow['is_audio'] == 1:\n",
    "        output_list.append('audio')\n",
    "    if mrow['is_graphics'] == 1:\n",
    "        output_list.append('graphics')\n",
    "    if mrow['is_gameplay'] == 1:\n",
    "        output_list.append('gameplay')\n",
    "    if len(output_list) == 0:\n",
    "        print(mrow)\n",
    "    return output_list\n",
    "def polarity_list(mrow):\n",
    "    output_list = [-2,-2,-2]\n",
    "    # print(mrow)\n",
    "    if mrow['is_audio'] == 1:\n",
    "        output_list[0] = mrow['audio_polarity']\n",
    "    if mrow['is_gameplay'] == 1:\n",
    "        output_list[1] = mrow['gameplay_polarity']\n",
    "    if mrow['is_graphics'] == 1:\n",
    "        output_list[2] = mrow['graphics_polarity']\n",
    "    # print(output_list)\n",
    "    return output_list"
   ]
  },
  {
   "cell_type": "code",
   "execution_count": 7,
   "metadata": {},
   "outputs": [
    {
     "name": "stdout",
     "output_type": "stream",
     "text": [
      "2372\n"
     ]
    }
   ],
   "source": [
    "#Compiles all data into a single table\n",
    "input_columns = ['gameId','AccountName','review','classifications','polarity']\n",
    "input_compilation = pd.DataFrame([],columns=input_columns)\n",
    "input_compilation = input_compilation.append(pd.DataFrame({\"gameId\":audio_data['gameId'],\n",
    "                                        'AccountName':audio_data['AccountName'],\n",
    "                                        'review':audio_data['review'],\n",
    "                                        'classifications': [['audio'] for i in range(0,audio_data.shape[0])],\n",
    "                                        'polarity':list([i,-2,-2] for i in audio_data[\"Polarity\"])\n",
    "                                        }))\n",
    "input_compilation = input_compilation.append(pd.DataFrame({\"gameId\":graphics_data['gameId'],\n",
    "                                        'AccountName':graphics_data['AccountName'],\n",
    "                                        'review':graphics_data['review'],\n",
    "                                        'classifications': [['graphics'] for i in range(0,graphics_data.shape[0])],\n",
    "                                        'polarity':list([-2,-2,i] for i in graphics_data[\"Polarity\"])\n",
    "                                        }))\n",
    "input_compilation = input_compilation.append(pd.DataFrame({\"gameId\":gameplay_data['gameId'],\n",
    "                                        'AccountName':gameplay_data['AccountName'],\n",
    "                                        'review':gameplay_data['review'],\n",
    "                                        'classifications': [['gameplay'] for i in range(0,gameplay_data.shape[0])],\n",
    "                                        'polarity':list([-2,i,-2] for i in gameplay_data[\"Polarity\"])\n",
    "                                        }))\n",
    "print(len(input_compilation))"
   ]
  },
  {
   "cell_type": "code",
   "execution_count": 8,
   "metadata": {},
   "outputs": [
    {
     "name": "stdout",
     "output_type": "stream",
     "text": [
      "(\"['audio', 'graphics', 'gameplay']\", 159)\n",
      "(\"['audio', 'gameplay']\", 142)\n",
      "(\"['audio', 'graphics']\", 122)\n",
      "(\"['audio']\", 85)\n",
      "(\"['graphics', 'gameplay']\", 53)\n",
      "(\"['graphics']\", 21)\n",
      "(\"['gameplay']\", 15)\n",
      "\n",
      "(\"['audio']\", 1039)\n",
      "(\"['gameplay']\", 979)\n",
      "(\"['graphics']\", 475)\n",
      "(\"['audio', 'graphics', 'gameplay']\", 159)\n",
      "(\"['audio', 'gameplay']\", 142)\n",
      "(\"['audio', 'graphics']\", 122)\n",
      "(\"['graphics', 'gameplay']\", 53)\n",
      "2969\n"
     ]
    }
   ],
   "source": [
    "md_classification_list = []\n",
    "md_polarity_list = []\n",
    "\n",
    "for i in range(0,multi_data.shape[0]):\n",
    "    md_classification_list.append(classification_list(multi_data.iloc[i]))\n",
    "    md_polarity_list.append(polarity_list(multi_data.iloc[i]))\n",
    "# print(md_classification_list)\n",
    "# print(md_polarity_list)\n",
    "temp_df = pd.DataFrame({\"gameId\":multi_data['gameId'],\n",
    "                                        'AccountName':multi_data['AccountName'],\n",
    "                                        'review':multi_data['review'],\n",
    "                                        'classifications': md_classification_list,\n",
    "                                        'polarity':md_polarity_list\n",
    "                                        })\n",
    "\n",
    "print_unique_instances(temp_df['classifications'])\n",
    "input_compilation = input_compilation.append(temp_df)\n",
    "input_compilation = input_compilation.reset_index(drop=True)\n",
    "print()\n",
    "print_unique_instances(input_compilation['classifications'])\n",
    "print(len(input_compilation))"
   ]
  },
  {
   "cell_type": "code",
   "execution_count": 9,
   "metadata": {},
   "outputs": [
    {
     "name": "stdout",
     "output_type": "stream",
     "text": [
      "      gameId    AccountName  \\\n",
      "0     294100            Jak   \n",
      "1     219740      Irrapture   \n",
      "2     238460   REXPOWERCOLT   \n",
      "3     253230       DeathCap   \n",
      "4     219740    Ƥyrefeather   \n",
      "...      ...            ...   \n",
      "2964  238460         Fraise   \n",
      "2965  238460  frisbeemenace   \n",
      "2966  253230       genkipro   \n",
      "2967  219740     ghostspawn   \n",
      "2968  294100     ghostspawn   \n",
      "\n",
      "                                                 review       classifications  \\\n",
      "0                    good music , when there is music .               [audio]   \n",
      "1     however , lumine is staggeringly ugly and has ...               [audio]   \n",
      "2     the soundtrack is amazing , arguably the best ...               [audio]   \n",
      "3     you will get engrossed in the 80s miami atmosp...               [audio]   \n",
      "4     one of the first things you can do is go up to...               [audio]   \n",
      "...                                                 ...                   ...   \n",
      "2964             The music and visuals make this game .     [audio, graphics]   \n",
      "2965  brutal and twisted , good atmosphere , great s...     [audio, graphics]   \n",
      "2966              There are no other graphics options .            [graphics]   \n",
      "2967  Although its gone through its array of bugs , ...  [graphics, gameplay]   \n",
      "2968  Birthed from the ideas of Dwarf Fortress ( exc...            [graphics]   \n",
      "\n",
      "          polarity  \n",
      "0      [1, -2, -2]  \n",
      "1     [-1, -2, -2]  \n",
      "2      [1, -2, -2]  \n",
      "3      [1, -2, -2]  \n",
      "4      [0, -2, -2]  \n",
      "...            ...  \n",
      "2964    [1, -2, 1]  \n",
      "2965    [1, -2, 1]  \n",
      "2966  [-2, -2, -1]  \n",
      "2967   [-2, -1, 1]  \n",
      "2968   [-2, -2, 0]  \n",
      "\n",
      "[2969 rows x 5 columns]\n"
     ]
    }
   ],
   "source": [
    "print(input_compilation)"
   ]
  },
  {
   "cell_type": "code",
   "execution_count": 10,
   "metadata": {},
   "outputs": [],
   "source": [
    "input_compilation = input_compilation.reset_index()\n",
    "input_compilation = input_compilation.drop(columns=['index'])"
   ]
  },
  {
   "cell_type": "code",
   "execution_count": 11,
   "metadata": {},
   "outputs": [
    {
     "name": "stdout",
     "output_type": "stream",
     "text": [
      "<class 'numpy.ndarray'>\n"
     ]
    }
   ],
   "source": [
    "#Convert Output [\"Audio\",\"Graphics\",\"Gameplay\"] into an array\n",
    "multilabel_binarizer = MultiLabelBinarizer()\n",
    "multilabel_binarizer.fit(input_compilation.classifications)\n",
    "review_output = multilabel_binarizer.transform(input_compilation.classifications)\n",
    "print(type(review_output[0]))\n",
    "review_output = list([i,j] for i,j in zip(review_output,input_compilation['polarity']))\n"
   ]
  },
  {
   "cell_type": "code",
   "execution_count": 12,
   "metadata": {},
   "outputs": [
    {
     "name": "stdout",
     "output_type": "stream",
     "text": [
      "[array([1, 0, 0]), [1, -2, -2]]\n",
      "[array([1, 0, 0]), [-1, -2, -2]]\n",
      "[array([1, 0, 0]), [1, -2, -2]]\n",
      "[array([1, 0, 0]), [1, -2, -2]]\n",
      "[array([1, 0, 0]), [0, -2, -2]]\n"
     ]
    }
   ],
   "source": [
    "#Left is category, Right is Polarity\n",
    "for i in range(0,5): print (review_output[i])\n"
   ]
  },
  {
   "cell_type": "code",
   "execution_count": 13,
   "metadata": {},
   "outputs": [
    {
     "name": "stdout",
     "output_type": "stream",
     "text": [
      "['audio' 'gameplay' 'graphics']\n"
     ]
    }
   ],
   "source": [
    "print(multilabel_binarizer.classes_)"
   ]
  },
  {
   "cell_type": "code",
   "execution_count": 14,
   "metadata": {},
   "outputs": [],
   "source": [
    "review_list = input_compilation['review'].tolist()"
   ]
  },
  {
   "cell_type": "code",
   "execution_count": 15,
   "metadata": {},
   "outputs": [
    {
     "name": "stdout",
     "output_type": "stream",
     "text": [
      "good music , when there is music .\n",
      "however , lumine is staggeringly ugly and has an annoying voice .\n",
      "the soundtrack is amazing , arguably the best soundtrack of any game i ve played .\n",
      "you will get engrossed in the 80s miami atmosphere with the game s stellar soundtrack and spectacular art direction .\n",
      "one of the first things you can do is go up to a tv with a game playing on it , and when you get near it the background music changes to have a dog barking the theme song in a neat little remix .\n"
     ]
    }
   ],
   "source": [
    "for i in range(0,5): print(review_list[i])"
   ]
  },
  {
   "cell_type": "code",
   "execution_count": 16,
   "metadata": {},
   "outputs": [],
   "source": [
    "#Initialize Tokenizer\n",
    "tokenizer_words = TweetTokenizer()\n",
    "stemmer = PorterStemmer()\n",
    "timer = 0\n",
    "stemmed_review_list = []"
   ]
  },
  {
   "cell_type": "code",
   "execution_count": 17,
   "metadata": {},
   "outputs": [],
   "source": [
    "#Stemming part was removed since it gave lower accuracy\n",
    "for sentence in review_list:\n",
    "    stemmed_review_list.append(sentence.lower())          #For no stemming comment everything above \n"
   ]
  },
  {
   "cell_type": "code",
   "execution_count": 18,
   "metadata": {},
   "outputs": [
    {
     "name": "stdout",
     "output_type": "stream",
     "text": [
      "good music , when there is music .\n",
      "however , lumine is staggeringly ugly and has an annoying voice .\n",
      "the soundtrack is amazing , arguably the best soundtrack of any game i ve played .\n",
      "you will get engrossed in the 80s miami atmosphere with the game s stellar soundtrack and spectacular art direction .\n",
      "one of the first things you can do is go up to a tv with a game playing on it , and when you get near it the background music changes to have a dog barking the theme song in a neat little remix .\n"
     ]
    }
   ],
   "source": [
    "for i in range(0,5): print(stemmed_review_list[i])"
   ]
  },
  {
   "cell_type": "code",
   "execution_count": 19,
   "metadata": {},
   "outputs": [],
   "source": [
    "#Train/Test Split\n",
    "data_train, data_test, label_train, label_test = train_test_split(stemmed_review_list, review_output, test_size = 0.3, random_state = 7)"
   ]
  },
  {
   "cell_type": "code",
   "execution_count": 20,
   "metadata": {},
   "outputs": [],
   "source": [
    "#Vectorizer\n",
    "category_tf = TfidfVectorizer(ngram_range=(1,1))\n",
    "category_tf.fit(data_train)\n",
    "\n",
    "data_train_tf\t= category_tf.transform(data_train)\n",
    "data_test_tf\t= category_tf.transform(data_test)"
   ]
  },
  {
   "cell_type": "code",
   "execution_count": 21,
   "metadata": {},
   "outputs": [
    {
     "name": "stdout",
     "output_type": "stream",
     "text": [
      "  (0, 5036)\t0.12832798095728912\n",
      "  (0, 4967)\t0.1300956430272045\n",
      "  (0, 4588)\t0.2473611169483468\n",
      "  (0, 4490)\t0.07477701599048939\n",
      "  (0, 4320)\t0.268434476231889\n",
      "  (0, 4114)\t0.19604960865658355\n",
      "  (0, 4016)\t0.2455535885301031\n",
      "  (0, 3461)\t0.4308655703455767\n",
      "  (0, 3053)\t0.18628301819133586\n",
      "  (0, 2851)\t0.29613186618295445\n",
      "  (0, 1989)\t0.1560253709083546\n",
      "  (0, 1910)\t0.2107049750174494\n",
      "  (0, 1512)\t0.21929736863548027\n",
      "  (0, 1207)\t0.34360050886710847\n",
      "  (0, 704)\t0.3629397208181735\n",
      "  (0, 654)\t0.16065027662843775\n",
      "  (0, 313)\t0.15051763010223707\n",
      "  (0, 253)\t0.07691426560177803\n",
      "  (0, 4490)\t0.22297527577721402\n",
      "  (0, 4016)\t0.36610433296474426\n",
      "  (0, 2790)\t0.32534117902221965\n",
      "  (0, 1634)\t0.5683196937184768\n",
      "  (0, 749)\t0.3024862337311738\n",
      "  (0, 313)\t0.4488238750480173\n",
      "  (0, 253)\t0.11467413721042026\n",
      "  (0, 229)\t0.28517457212335917\n"
     ]
    }
   ],
   "source": [
    "for i in range(0,2): print(data_train_tf[i])"
   ]
  },
  {
   "cell_type": "markdown",
   "metadata": {},
   "source": [
    "# Category Classifier"
   ]
  },
  {
   "cell_type": "code",
   "execution_count": 22,
   "metadata": {},
   "outputs": [],
   "source": [
    "#Initialize Clasifier Model\n",
    "category_lsvc = OneVsRestClassifier(CalibratedClassifierCV(LinearSVC()))"
   ]
  },
  {
   "cell_type": "code",
   "execution_count": 23,
   "metadata": {},
   "outputs": [
    {
     "data": {
      "text/plain": [
       "OneVsRestClassifier(estimator=CalibratedClassifierCV(base_estimator=LinearSVC(C=1.0,\n",
       "                                                                              class_weight=None,\n",
       "                                                                              dual=True,\n",
       "                                                                              fit_intercept=True,\n",
       "                                                                              intercept_scaling=1,\n",
       "                                                                              loss='squared_hinge',\n",
       "                                                                              max_iter=1000,\n",
       "                                                                              multi_class='ovr',\n",
       "                                                                              penalty='l2',\n",
       "                                                                              random_state=None,\n",
       "                                                                              tol=0.0001,\n",
       "                                                                              verbose=0),\n",
       "                                                     cv=None,\n",
       "                                                     method='sigmoid'),\n",
       "                    n_jobs=None)"
      ]
     },
     "execution_count": 23,
     "metadata": {},
     "output_type": "execute_result"
    }
   ],
   "source": [
    "#Train Model\n",
    "category_lsvc.fit(data_train_tf,list(i[0] for i in label_train))"
   ]
  },
  {
   "cell_type": "code",
   "execution_count": 24,
   "metadata": {},
   "outputs": [],
   "source": [
    "#Test Model\n",
    "category_prediction = category_lsvc.predict(data_test_tf)\n",
    "category_probability = category_lsvc.predict_proba(data_test_tf)"
   ]
  },
  {
   "cell_type": "code",
   "execution_count": 25,
   "metadata": {},
   "outputs": [],
   "source": [
    "#Functions for cell below\n",
    "def is_over_threshold(threshold,input_list):\n",
    "    label_types = np.array([0,0,0])\n",
    "    if input_list[0] > threshold:\n",
    "        label_types[0] = 1      \n",
    "    if input_list[1] > threshold:\n",
    "        label_types[1] = 1\n",
    "    if input_list[2] > threshold:    \n",
    "       label_types[2] = 1\n",
    "    return label_types\n",
    "def compute_sub_accuracy(label,output):\n",
    "    test_list = np.hsplit(label,3)\n",
    "    output_list = np.hsplit(np.array(output),3)\n",
    "    print()\n",
    "    print(\"Sub Accuracy\")\n",
    "    for i in range(0,3):\n",
    "        x_list = test_list[i]\n",
    "        y_list = output_list[i]\n",
    "        tn, fp, fn, tp = confusion_matrix(x_list,y_list).ravel()\n",
    "        accuracy  = (tp + tn)/ (tp+tn+fp+fn)\n",
    "        precision = (tp) / (tp + fp)\n",
    "        recall    = (tp) / (tp + fn)        \n",
    "        if (i+1) == 1: \n",
    "            print(\"Audio    \\t Accuracy: {} \\tPrecision: {} \\t Recall: {}\".format(round(accuracy,4),round(precision,4),round(recall,4)))\n",
    "        elif (i+1) == 2:\n",
    "            print(\"Gameplay \\t Accuracy: {} \\tPrecision: {} \\t Recall: {}\".format(round(accuracy,4),round(precision,4),round(recall,4)))\n",
    "        elif (i+1) == 3:\n",
    "            print(\"Graphics \\t Accuracy: {} \\tPrecision: {} \\t Recall: {}\".format(round(accuracy,4),round(precision,4),round(recall,4)))\n",
    "\n",
    "\n",
    "def print_testing():\n",
    "    category_label_test = np.array(list(i[0] for i in label_test))\n",
    "    threshold_list = [.3,.4,.5,.6,.7]\n",
    "    for temp_treshold in threshold_list:\n",
    "        output_labels = []\n",
    "        for i in category_probability: \n",
    "            output_labels.append(is_over_threshold(temp_treshold,i))\n",
    "        \n",
    "        # print(\"-------------------------\")\n",
    "        print(\"Treshold: \\t{}\".format(temp_treshold))\n",
    "        print(\"Accuracy: \\t{}\".format(round(accuracy_score(category_label_test,output_labels),4)))\n",
    "        print(\"Precision:\\t {}\".format(precision_score(category_label_test,output_labels,average=\"micro\"),4))\n",
    "        ## micro = global_tp/(global_tp+global_fp)\n",
    "        ## macro = ave(audio_tp/(audio_tp/audio_fp)+ ... +...)\n",
    "        print(\"Hamming Loss:\\t {}\".format(round(hamming_loss(category_label_test,output_labels),4)))\n",
    "        compute_sub_accuracy(category_label_test,output_labels)\n",
    "        print()\n"
   ]
  },
  {
   "cell_type": "code",
   "execution_count": 26,
   "metadata": {},
   "outputs": [
    {
     "name": "stdout",
     "output_type": "stream",
     "text": [
      "Treshold: \t0.3\n",
      "Accuracy: \t0.5499\n",
      "Precision:\t 0.714175654853621\n",
      "Hamming Loss:\t 0.1919\n",
      "\n",
      "Sub Accuracy\n",
      "Audio    \t Accuracy: 0.8687 \tPrecision: 0.8182 \t Recall: 0.9431\n",
      "Gameplay \t Accuracy: 0.7486 \tPrecision: 0.6706 \t Recall: 0.8622\n",
      "Graphics \t Accuracy: 0.807 \tPrecision: 0.6057 \t Recall: 0.7316\n",
      "\n",
      "Treshold: \t0.4\n",
      "Accuracy: \t0.6128\n",
      "Precision:\t 0.7644483362521891\n",
      "Hamming Loss:\t 0.174\n",
      "\n",
      "Sub Accuracy\n",
      "Audio    \t Accuracy: 0.8765 \tPrecision: 0.8406 \t Recall: 0.9248\n",
      "Gameplay \t Accuracy: 0.7912 \tPrecision: 0.7483 \t Recall: 0.8045\n",
      "Graphics \t Accuracy: 0.8103 \tPrecision: 0.6348 \t Recall: 0.632\n",
      "\n",
      "Treshold: \t0.5\n",
      "Accuracy: \t0.6117\n",
      "Precision:\t 0.7870646766169154\n",
      "Hamming Loss:\t 0.1841\n",
      "\n",
      "Sub Accuracy\n",
      "Audio    \t Accuracy: 0.8597 \tPrecision: 0.8536 \t Recall: 0.8633\n",
      "Gameplay \t Accuracy: 0.798 \tPrecision: 0.7874 \t Recall: 0.7519\n",
      "Graphics \t Accuracy: 0.7901 \tPrecision: 0.6222 \t Recall: 0.4848\n",
      "\n",
      "Treshold: \t0.6\n",
      "Accuracy: \t0.6061\n",
      "Precision:\t 0.8299881936245572\n",
      "Hamming Loss:\t 0.1908\n",
      "\n",
      "Sub Accuracy\n",
      "Audio    \t Accuracy: 0.8406 \tPrecision: 0.8649 \t Recall: 0.8018\n",
      "Gameplay \t Accuracy: 0.798 \tPrecision: 0.839 \t Recall: 0.6792\n",
      "Graphics \t Accuracy: 0.789 \tPrecision: 0.6838 \t Recall: 0.3463\n",
      "\n",
      "Treshold: \t0.7\n",
      "Accuracy: \t0.5387\n",
      "Precision:\t 0.8429172510518934\n",
      "Hamming Loss:\t 0.217\n",
      "\n",
      "Sub Accuracy\n",
      "Audio    \t Accuracy: 0.8081 \tPrecision: 0.8702 \t Recall: 0.7175\n",
      "Gameplay \t Accuracy: 0.7609 \tPrecision: 0.8496 \t Recall: 0.5664\n",
      "Graphics \t Accuracy: 0.78 \tPrecision: 0.7059 \t Recall: 0.2597\n",
      "\n",
      "2078\n",
      "891\n"
     ]
    }
   ],
   "source": [
    "print_testing()\n",
    "print(len(data_train))\n",
    "print(len(data_test))"
   ]
  },
  {
   "cell_type": "markdown",
   "metadata": {},
   "source": [
    "# Polarity Classifier"
   ]
  },
  {
   "cell_type": "code",
   "execution_count": 27,
   "metadata": {},
   "outputs": [],
   "source": [
    "#Filter reviews that passed the initial classification\n",
    "var_threshold = .6\n",
    "category_label_test = np.array(list(i[0] for i in label_test))\n",
    "pol_label_test = np.array(list(i[1] for i in label_test))\n",
    "output_labels = []\n",
    "for i in category_probability:\n",
    "    output_labels.append(is_over_threshold(var_threshold,i))\n",
    "# print(label_test[0])\n",
    "# print(label_test[1][1])"
   ]
  },
  {
   "cell_type": "code",
   "execution_count": 28,
   "metadata": {},
   "outputs": [],
   "source": [
    "#Count reviews with \"X\" category\n",
    "t_total_audio    = 0\n",
    "t_total_gameplay = 0\n",
    "t_total_graphics = 0\n",
    "for i in label_test:\n",
    "    if i[0][0]:\n",
    "        t_total_audio += 1\n",
    "    if i[0][1]:\n",
    "        t_total_gameplay += 1\n",
    "    if i[0][2]:\n",
    "        t_total_graphics += 1"
   ]
  },
  {
   "cell_type": "code",
   "execution_count": 29,
   "metadata": {},
   "outputs": [
    {
     "name": "stdout",
     "output_type": "stream",
     "text": [
      "Passed Audio:\t\t 352 out of 439 \n",
      "Passed Gameplay:\t 271 out of 399\n",
      "Passed Graphics:\t 80 out of 231\n"
     ]
    }
   ],
   "source": [
    "test_audio_passed_text = []\n",
    "test_audio_passed_pol = []\n",
    "\n",
    "test_gameplay_passed_text = []\n",
    "test_gameplay_passed_pol = []\n",
    "\n",
    "test_graphics_passed_text = [] \n",
    "test_graphics_passed_pol = [] \n",
    "\n",
    "\n",
    "for i,j,k,l in zip(data_test,category_label_test,output_labels,pol_label_test):\n",
    "    if(j[0] == k[0] == 1):\n",
    "        test_audio_passed_text.append(i)\n",
    "        test_audio_passed_pol.append(l[0])\n",
    "    if(j[1] == k[1] == 1):\n",
    "        test_gameplay_passed_text.append(i)\n",
    "        test_gameplay_passed_pol.append(l[1])\n",
    "    if(j[2] == k[2] == 1):\n",
    "        test_graphics_passed_text.append(i) \n",
    "        test_graphics_passed_pol.append(l[2])\n",
    "\n",
    "print(\"Passed Audio:\\t\\t {} out of {} \".format(len(test_audio_passed_text),t_total_audio))\n",
    "print(\"Passed Gameplay:\\t {} out of {}\".format(len(test_gameplay_passed_text),t_total_gameplay))\n",
    "print(\"Passed Graphics:\\t {} out of {}\".format(len(test_graphics_passed_text),t_total_graphics))"
   ]
  },
  {
   "cell_type": "code",
   "execution_count": 30,
   "metadata": {},
   "outputs": [],
   "source": [
    "#Initialize Values\n",
    "audio_data_train_text = []\n",
    "audio_data_train_polarity = []\n",
    "\n",
    "graphics_data_train_text = []\n",
    "graphics_data_train_polarity = []\n",
    "\n",
    "gameplay_data_train_text = []\n",
    "gameplay_data_train_polarity = []"
   ]
  },
  {
   "cell_type": "code",
   "execution_count": 31,
   "metadata": {},
   "outputs": [],
   "source": [
    "#Transfer values\n",
    "for i,j in zip(data_train,label_train):\n",
    "    temp_classifications = j[0]\n",
    "    temp_polarity = j[1]\n",
    "    if temp_classifications[0] == 1:\n",
    "        audio_data_train_text.append(i)\n",
    "        audio_data_train_polarity.append(temp_polarity[0])\n",
    "    if temp_classifications[1] == 1:\n",
    "        gameplay_data_train_text.append(i)\n",
    "        gameplay_data_train_polarity.append(temp_polarity[1])\n",
    "    if temp_classifications[2] == 1:\n",
    "        graphics_data_train_text.append(i)\n",
    "        graphics_data_train_polarity.append(temp_polarity[2])"
   ]
  },
  {
   "cell_type": "code",
   "execution_count": 32,
   "metadata": {},
   "outputs": [],
   "source": [
    "#Vectorization\n",
    "#Audio\n",
    "pol_audio_tf = TfidfVectorizer(ngram_range=(1,1))\n",
    "pol_audio_tf.fit(audio_data_train_text)\n",
    "audio_data_train_tf = pol_audio_tf.transform(audio_data_train_text)\n",
    "audio_data_test_tf = pol_audio_tf.transform(test_audio_passed_text)\n",
    "\n",
    "#Gameplay\n",
    "pol_gameplay_tf = TfidfVectorizer(ngram_range=(1,1))\n",
    "pol_gameplay_tf.fit(gameplay_data_train_text)\n",
    "gameplay_data_train_tf = pol_gameplay_tf.transform(gameplay_data_train_text)\n",
    "gameplay_data_test_tf = pol_gameplay_tf.transform(test_gameplay_passed_text)\n",
    "\n",
    "#Graphics\n",
    "pol_graphics_tf = TfidfVectorizer(ngram_range=(1,1))\n",
    "pol_graphics_tf.fit(graphics_data_train_text)\n",
    "graphics_data_train_tf = pol_graphics_tf.transform(graphics_data_train_text)\n",
    "graphics_data_test_tf = pol_graphics_tf.transform(test_graphics_passed_text)\n",
    "\n"
   ]
  },
  {
   "cell_type": "code",
   "execution_count": 33,
   "metadata": {},
   "outputs": [],
   "source": [
    "def count_output(temp_list):\n",
    "    temp_count_pos = 0\n",
    "    temp_count_neu = 0\n",
    "    temp_count_neg = 0\n",
    "    for i in temp_list:\n",
    "        if i == 1:\n",
    "            temp_count_pos = temp_count_pos + 1\n",
    "        elif i == 0:\n",
    "            temp_count_neu = temp_count_neu + 1\n",
    "        elif i == -1:\n",
    "            temp_count_neg = temp_count_neg + 1\n",
    "\n",
    "    print(\"Positive: {}\"    .format(temp_count_pos))\n",
    "    print(\"Neutral: {}\"     .format(temp_count_neu))\n",
    "    print(\"Negative: {}\"    .format(temp_count_neg))\n",
    "    print()\n",
    "def pol_output(pred_output,label):\n",
    "    category_output_dict = {}\n",
    "    for i,j in zip(label,pred_output):\n",
    "        temp_text = \"{}_{}\".format(i,j)\n",
    "        if temp_text in category_output_dict:\n",
    "            category_output_dict[temp_text] += 1\n",
    "        else:\n",
    "            category_output_dict[temp_text] = 1\n",
    "\n",
    "    for key, value in sorted(category_output_dict.items()):\n",
    "        print(\"{} {}\".format(key,value))"
   ]
  },
  {
   "cell_type": "code",
   "execution_count": 34,
   "metadata": {},
   "outputs": [],
   "source": [
    "pol_audio_lsvc = CalibratedClassifierCV(LinearSVC(multi_class='ovr'))\n",
    "pol_audio_lsvc.fit(audio_data_train_tf,audio_data_train_polarity)\n",
    "pol_audio_output = pol_audio_lsvc.predict(audio_data_test_tf)\n",
    "\n",
    "pol_gameplay_lsvc = CalibratedClassifierCV(LinearSVC(multi_class='ovr'))\n",
    "pol_gameplay_lsvc.fit(gameplay_data_train_tf,gameplay_data_train_polarity)\n",
    "pol_gameplay_output = pol_gameplay_lsvc.predict(gameplay_data_test_tf)\n",
    "\n",
    "pol_graphics_lsvc = CalibratedClassifierCV(LinearSVC(multi_class='ovr'))\n",
    "pol_graphics_lsvc.fit(graphics_data_train_tf,graphics_data_train_polarity)\n",
    "pol_graphics_output = pol_graphics_lsvc.predict(graphics_data_test_tf)\n",
    "\n",
    "# print(pol_audio_output)\n",
    "# print(pol_gameplay_output)\n",
    "# print(pol_graphics_output)"
   ]
  },
  {
   "cell_type": "code",
   "execution_count": 35,
   "metadata": {},
   "outputs": [
    {
     "name": "stdout",
     "output_type": "stream",
     "text": [
      "audio_train\n",
      "POS: 886 NEU: 103 NEG: 34\n",
      "audio_test\n",
      "POS: 308 NEU: 35 NEG: 9\n",
      "gameplay_train\n",
      "POS: 578 NEU: 288 NEG: 68\n",
      "gameplay_test\n",
      "POS: 148 NEU: 103 NEG: 20\n",
      "graphics_train\n",
      "POS: 465 NEU: 69 NEG: 44\n",
      "graphics_test\n",
      "POS: 64 NEU: 8 NEG: 8\n"
     ]
    }
   ],
   "source": [
    "def count_specific_pol(category,pol_list):\n",
    "    print(category)\n",
    "    pos = 0\n",
    "    neg = 0\n",
    "    neu = 0 \n",
    "    for i in pol_list:\n",
    "        if i == 1:\n",
    "            pos += 1\n",
    "        elif i == 0:\n",
    "            neu += 1\n",
    "        elif i == -1:\n",
    "            neg += 1\n",
    "    print(\"POS: {} NEU: {} NEG: {}\".format(pos,neu,neg))\n",
    "count_specific_pol(\"audio_train\",audio_data_train_polarity)\n",
    "count_specific_pol(\"audio_test\",test_audio_passed_pol)\n",
    "count_specific_pol(\"gameplay_train\",gameplay_data_train_polarity)\n",
    "count_specific_pol(\"gameplay_test\",test_gameplay_passed_pol)\n",
    "count_specific_pol(\"graphics_train\",graphics_data_train_polarity)\n",
    "count_specific_pol(\"graphics_test\",test_graphics_passed_pol)"
   ]
  },
  {
   "cell_type": "code",
   "execution_count": 36,
   "metadata": {},
   "outputs": [
    {
     "name": "stdout",
     "output_type": "stream",
     "text": [
      "Audio\n",
      "0.9289772727272727\n",
      "Gameplay\n",
      "0.7084870848708487\n",
      "Graphics\n",
      "0.85\n"
     ]
    }
   ],
   "source": [
    "print(\"Audio\")\n",
    "print(accuracy_score(test_audio_passed_pol,pol_audio_output))\n",
    "print(\"Gameplay\")\n",
    "print(accuracy_score(test_gameplay_passed_pol,pol_gameplay_output))\n",
    "print(\"Graphics\")\n",
    "print(accuracy_score(test_graphics_passed_pol,pol_graphics_output))"
   ]
  },
  {
   "cell_type": "code",
   "execution_count": 37,
   "metadata": {},
   "outputs": [
    {
     "name": "stdout",
     "output_type": "stream",
     "text": [
      "[array([0, 0, 1]), [-2, -2, 1]]\n"
     ]
    }
   ],
   "source": [
    "print(label_train[0])"
   ]
  }
 ],
 "metadata": {
  "celltoolbar": "Edit Metadata",
  "kernelspec": {
   "display_name": "Python 3",
   "language": "python",
   "name": "python3"
  },
  "language_info": {
   "codemirror_mode": {
    "name": "ipython",
    "version": 3
   },
   "file_extension": ".py",
   "mimetype": "text/x-python",
   "name": "python",
   "nbconvert_exporter": "python",
   "pygments_lexer": "ipython3",
   "version": "3.7.4"
  }
 },
 "nbformat": 4,
 "nbformat_minor": 4
}
